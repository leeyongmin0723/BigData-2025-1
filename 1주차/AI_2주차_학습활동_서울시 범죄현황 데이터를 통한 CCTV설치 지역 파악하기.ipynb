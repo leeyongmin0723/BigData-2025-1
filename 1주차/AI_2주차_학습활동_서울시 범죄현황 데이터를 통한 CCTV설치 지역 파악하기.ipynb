{
 "cells": [
  {
   "cell_type": "markdown",
   "metadata": {},
   "source": [
    "# 서울시 범죄현황 데이터를 통한 CCTV 설치 필요지역 파악하기"
   ]
  },
  {
   "cell_type": "markdown",
   "metadata": {},
   "source": [
    "## 1. 서울시 자치구별 범죄현황 데이터 읽어오기"
   ]
  },
  {
   "cell_type": "code",
   "execution_count": null,
   "metadata": {},
   "outputs": [],
   "source": [
    "import pandas as pd\n",
    "\n",
    "# Colab에서는 파일의경로명을 해당 파일에서 점 세개 버튼의 경로 복사로 복사해 사용\n",
    "#예) Crime_Seoul = pd.read_csv('/content/drive/MyDrive/Colab Notebooks/AI_2주차_실습파일_오프라인/서울시 5대 범죄 발생 현황 통계.txt'.......)\n",
    "\n",
    "# 강의자료 3, 7쪽 참조, 여기서 불러오로 파일은 encodind = 'utf-8' 또는 생략해도 됨\n",
    "#('./서울시 5대 범죄 발생 현황 통계.txt', sep= '\\t', encoding= 'utf-8')\n",
    "Crime_Seoul = \n",
    "Crime_Seoul\n"
   ]
  },
  {
   "cell_type": "markdown",
   "metadata": {},
   "source": [
    "## 2. 데이터 살펴보기"
   ]
  },
  {
   "cell_type": "markdown",
   "metadata": {},
   "source": [
    "### 2-1. 행x열 수, 열이름, 인덱스를 살펴보자"
   ]
  },
  {
   "cell_type": "code",
   "execution_count": null,
   "metadata": {},
   "outputs": [],
   "source": []
  },
  {
   "cell_type": "markdown",
   "metadata": {},
   "source": [
    "### 2-2. 데이터의 상위 5행과 하위 5행을 살펴보자"
   ]
  },
  {
   "cell_type": "code",
   "execution_count": null,
   "metadata": {},
   "outputs": [],
   "source": []
  },
  {
   "cell_type": "code",
   "execution_count": null,
   "metadata": {},
   "outputs": [],
   "source": []
  },
  {
   "cell_type": "markdown",
   "metadata": {},
   "source": [
    "### 2-3. 데이터의 타입, 아이템수, 누락데이터 수 등을 살펴보자"
   ]
  },
  {
   "cell_type": "code",
   "execution_count": null,
   "metadata": {},
   "outputs": [],
   "source": []
  },
  {
   "cell_type": "markdown",
   "metadata": {},
   "source": [
    "## 3. CCTV 데이터 정리하기"
   ]
  },
  {
   "cell_type": "markdown",
   "metadata": {},
   "source": [
    "### 3.1 데이터의 컬럼 이름을 변경해보자"
   ]
  },
  {
   "cell_type": "code",
   "execution_count": null,
   "metadata": {},
   "outputs": [],
   "source": [
    "#데이터의 열이름 변경:\n",
    "#'자치구' -> '구별',\n",
    "#'합계' -> '발생합계', '합계.1' -> '검거합계',\n",
    "#'살인.1'-> '살인검거',\n",
    "#'강도.1' -> '강도검거',\n",
    "#'강간강제추행.1' -> '강간강제추행검거',\n",
    "#'절도.1' -> '절도검거',\n",
    "#'폭력.1' -> '폭력검거'\n",
    "\n"
   ]
  },
  {
   "cell_type": "markdown",
   "metadata": {},
   "source": [
    "### 3.2 불필요한 행과 열을 삭제하자"
   ]
  },
  {
   "cell_type": "code",
   "execution_count": null,
   "metadata": {},
   "outputs": [],
   "source": [
    "#'기간'열 삭제 (columns='기간', axis=1, inplace=True)\n"
   ]
  },
  {
   "cell_type": "code",
   "execution_count": null,
   "metadata": {},
   "outputs": [],
   "source": [
    "#0,1행 삭제 (index=[0,1], axis=0, inplace=True)\n"
   ]
  },
  {
   "cell_type": "code",
   "execution_count": null,
   "metadata": {},
   "outputs": [],
   "source": [
    "#기존 인덱스를 버리고 인덱스 0부터 다시 설정 (drop=True, inplace=True)  \n",
    "\n"
   ]
  },
  {
   "cell_type": "markdown",
   "metadata": {},
   "source": [
    "## 4. 범죄현황 데이터 자세히 보기"
   ]
  },
  {
   "cell_type": "markdown",
   "metadata": {},
   "source": [
    "### 4-1. 범죄발생이 가장 많은/적은 상위 5개 구는 어디일까?"
   ]
  },
  {
   "cell_type": "code",
   "execution_count": null,
   "metadata": {},
   "outputs": [],
   "source": [
    "#'범죄발생'이 가장 많은 구, 데이터 '발생합계'열을 기준으로 내림차순 정렬하기\n",
    "\n"
   ]
  },
  {
   "cell_type": "code",
   "execution_count": null,
   "metadata": {},
   "outputs": [],
   "source": [
    "#범죄발생이 가장 적은 구, 데이터 '발생합계'열을 기준으로 오름차순 정렬하기\n",
    "\n"
   ]
  },
  {
   "cell_type": "markdown",
   "metadata": {},
   "source": [
    "### 4-2 각 범죄별 검거율을 계산하여 검거율 열을 추가하자"
   ]
  },
  {
   "cell_type": "code",
   "execution_count": null,
   "metadata": {},
   "outputs": [],
   "source": [
    "# 각 컬럼의 데이터 타입을 확인\n",
    "# 검거율을 계산하기 위해서는 데이터가 정수형이거나 실수형이여야 함\n",
    "# 이 정수형이 아니라 문자열 형임을 알수 있다. 문자열 형은 수학연산이 불가\n",
    "Crime_Seoul.info()  "
   ]
  },
  {
   "cell_type": "code",
   "execution_count": null,
   "metadata": {},
   "outputs": [],
   "source": [
    "#각 열의 문자열 형의 데이터를 정수형으로 변경\n",
    "Crime_Seoul = Crime_Seoul.astype({'발생합계':'int64', '검거합계':'int64',\n",
    "                                  '살인':'int64', '살인검거':'int64',\n",
    "                                  '강도':'int64', '강도검거':'int64',\n",
    "                                  '강간강제추행':'int64', '강간강제추행검거':'int64',\n",
    "                                  '절도':'int64', '절도검거':'int64',\n",
    "                                  '폭력':'int64', '폭력검거':'int64'})\n",
    "Crime_Seoul.head()"
   ]
  },
  {
   "cell_type": "code",
   "execution_count": null,
   "metadata": {},
   "outputs": [],
   "source": [
    "# 각 컬럼의 데이터 타입이 정수형으로 변경되었음 확인\n",
    "\n",
    "Crime_Seoul.info()"
   ]
  },
  {
   "cell_type": "code",
   "execution_count": null,
   "metadata": {},
   "outputs": [],
   "source": [
    "#검거 수/발생 수 * 100\n",
    "#예시) Crime_Seoul['검거율'] = Crime_Seoul['검거합계']/ Crime_Seoul['발생합계']  * 100\n",
    "#예시) Crime_Seoul['살인검거율'] = Crime_Seoul['살인검거']/ Crime_Seoul['살인']  * 100\n",
    "\n",
    "Crime_Seoul['검거율'] = \n",
    "Crime_Seoul['살인검거율'] = \n",
    "Crime_Seoul['강도검거율'] = \n",
    "Crime_Seoul['강간강제추행검거율'] = \n",
    "Crime_Seoul['절도검거율'] = \n",
    "Crime_Seoul['폭력검거율'] = \n",
    "                    \n",
    "Crime_Seoul.head()"
   ]
  },
  {
   "cell_type": "markdown",
   "metadata": {},
   "source": [
    "### 4-3. 각 범죄의 검거수를 삭제하자."
   ]
  },
  {
   "cell_type": "code",
   "execution_count": null,
   "metadata": {},
   "outputs": [],
   "source": [
    "#각 범죄의 검거 열은 삭제, 검거수는 검거율로 대체해 사용 \n",
    "#(columns=['살인검거','강도검거','강간강제추행검거','절도검거', '폭력검거'], axis=1, inplace=True)\n",
    "\n"
   ]
  },
  {
   "cell_type": "markdown",
   "metadata": {},
   "source": [
    "### 4-4. 범죄의 검거율이 가장 높은/낮은 상위 5개구는 어디일까?"
   ]
  },
  {
   "cell_type": "code",
   "execution_count": null,
   "metadata": {},
   "outputs": [],
   "source": [
    "#범죄 검거율이 가장 높은 구, 데이터 '검거율'열을 기준으로 정렬하기\n",
    "\n"
   ]
  },
  {
   "cell_type": "code",
   "execution_count": null,
   "metadata": {},
   "outputs": [],
   "source": [
    "#범죄 검거율이 가장 낮은 구, 데이터 '검거율'열을 기준으로 정렬하기\n",
    "\n"
   ]
  },
  {
   "cell_type": "markdown",
   "metadata": {},
   "source": [
    "## 5. 인구수와 CCTV수 데이터와 범죄 현황 데이터 합치기"
   ]
  },
  {
   "cell_type": "markdown",
   "metadata": {},
   "source": [
    "### 5-1 인구수와 CCTV 수 데이터 가져오기"
   ]
  },
  {
   "cell_type": "code",
   "execution_count": null,
   "metadata": {},
   "outputs": [],
   "source": [
    "# 서울시 자치구별 CCTV 현황 분석에서 정리하여 저장했던 'CCTV_pop.xlsx' 액셀 파일 열기\n",
    "\n",
    "CCTV_pop = pd.read_excel('./CCTV_pop.xlsx')\n",
    "CCTV_pop.head()"
   ]
  },
  {
   "cell_type": "code",
   "execution_count": null,
   "metadata": {},
   "outputs": [],
   "source": [
    "# CCTV_pop 데이터에서 '총계','인구수' 열만 가져와서 추가하기 \n",
    "Crime_Seoul['CCTV수']=CCTV_pop['총계']\n",
    "Crime_Seoul['인구수']=CCTV_pop['인구수']\n",
    "Crime_Seoul.head()"
   ]
  },
  {
   "cell_type": "code",
   "execution_count": null,
   "metadata": {},
   "outputs": [],
   "source": [
    "#구별로 인덱스 설정\n",
    "Crime_Seoul.set_index('구별', inplace=True)\n",
    "Crime_Seoul.head()"
   ]
  },
  {
   "cell_type": "markdown",
   "metadata": {},
   "source": [
    "## 5. 범죄 데이터 시각화 하기"
   ]
  },
  {
   "cell_type": "code",
   "execution_count": null,
   "metadata": {},
   "outputs": [],
   "source": [
    "#한글 폰트 깨짐 방지 코드\n",
    "import matplotlib.pyplot as plt\n",
    "import seaborn as sns\n",
    "\n",
    "import platform\n",
    "path = \"c:/windows/Fonts/malgun.ttf\"\n",
    "from matplotlib import font_manager, rc\n",
    "\n",
    "if platform.system() == 'Darwin':\n",
    "    rc('font', family='AppleGothic')\n",
    "elif platform.system() == 'Windows':\n",
    "    font_name = font_manager.FontProperties(fname=path).get_name()\n",
    "    rc('font', family=font_name)\n",
    "else :\n",
    "    print('Unknown system... sorry~~~')    \n",
    "\n",
    "'''\n",
    "#코랩일 경우 위의 코드는 주석처리 아래의 코드로 실행\n",
    "적용이 안되면 상단 런타임 메뉴에서 다시시작 및 모두실행으로 실행\n",
    "그래도 안되면 런타임 메뉴에서 런타임 다시시작 -> 다시시작 및 모두실행\n",
    "\n",
    "#한글 폰트 깨짐 방지 코드\n",
    "import matplotlib.pyplot as plt\n",
    "import seaborn as sns\n",
    "\n",
    "import matplotlib as mpl \n",
    "import matplotlib.pyplot as plt \n",
    "import matplotlib.font_manager as fm  \n",
    "\n",
    "!apt-get update -qq\n",
    "!apt-get install fonts-nanum* -qq\n",
    "\n",
    "path = '/usr/share/fonts/truetype/nanum/NanumBarunGothic.ttf' \n",
    "font_name = fm.FontProperties(fname=path, size=10).get_name()\n",
    "print(font_name)\n",
    "plt.rc('font', family=font_name)\n",
    "\n",
    "fm._rebuild()\n",
    "mpl.rcParams['axes.unicode_minus'] = False\n",
    "'''"
   ]
  },
  {
   "cell_type": "markdown",
   "metadata": {},
   "source": [
    "### 5.1 범죄 발생수가 가장 많은 구는 어디인가?"
   ]
  },
  {
   "cell_type": "code",
   "execution_count": null,
   "metadata": {},
   "outputs": [],
   "source": [
    "#막대 그래프 그리기\n",
    "# '발생합계로 소팅하여 막대 그래프 그리기\n"
   ]
  },
  {
   "cell_type": "markdown",
   "metadata": {},
   "source": [
    "### 5.2 범죄 검거율이 가장 높은 구는 어디인가?"
   ]
  },
  {
   "cell_type": "code",
   "execution_count": null,
   "metadata": {},
   "outputs": [],
   "source": [
    "#막대 그래프 그리기\n",
    "# '검거율'로 소팅하여 막대 그래프 그리기\n"
   ]
  },
  {
   "cell_type": "markdown",
   "metadata": {},
   "source": [
    "### 5.3 CCTV수가 가장 많은 구는 어디일까?"
   ]
  },
  {
   "cell_type": "code",
   "execution_count": null,
   "metadata": {},
   "outputs": [],
   "source": [
    "#막대 그래프 그리기\n",
    "# 'CCTV수'로 소팅하여 막대 그래프 그리기\n"
   ]
  },
  {
   "cell_type": "markdown",
   "metadata": {},
   "source": [
    "### 5.4 강도, 살인, 폭력은 어떤 관계에 있을까?"
   ]
  },
  {
   "cell_type": "code",
   "execution_count": null,
   "metadata": {},
   "outputs": [],
   "source": [
    "#강도, 살인, 폭력에 대한 상간관계 그래프 \n",
    "#pairplot은 그리도(grid) 형태로 각 집합의 조합에 대해 히스토그램 또는 분포도를 그려주는 함수\n",
    "sns.pairplot(Crime_Seoul, vars=['강도','살인','폭력'], kind='reg', height=3) #kind='reg'는 차트 종류를 산점도라는 의미\n",
    "plt.show()"
   ]
  },
  {
   "cell_type": "markdown",
   "metadata": {},
   "source": [
    "### 5.5 살인, 강도와 인구수와 CCTV수와 어떤 관계에 있을까?"
   ]
  },
  {
   "cell_type": "code",
   "execution_count": null,
   "metadata": {},
   "outputs": [],
   "source": [
    "#살인, 강도, 인구수, CCTV수에 대한 상간관계 그래프 \n",
    "#pairplot은 그리도(grid) 형태로 각 집합의 조합에 대해 히스토그램 또는 분포도를 그려주는 함수\n",
    "sns.pairplot(Crime_Seoul, x_vars=['인구수','CCTV수'], y_vars=['살인','강도'], kind='reg', height=3) #kind='reg'는 차트 종류를 산점도라는 의미\n",
    "plt.show()"
   ]
  },
  {
   "cell_type": "markdown",
   "metadata": {},
   "source": [
    "### 5.6 인구수와 CCTV수는 살인검거율과 폭력검거율과 어떤 관계에 있을까?"
   ]
  },
  {
   "cell_type": "code",
   "execution_count": null,
   "metadata": {},
   "outputs": [],
   "source": [
    "#살인, 강도, 인구수, CCTV수에 대한 상간관계 그래프 \n",
    "#pairplot은 그리도(grid) 형태로 각 집합의 조합에 대해 히스토그램 또는 분포도를 그려주는 함수\n",
    "sns.pairplot(Crime_Seoul, x_vars=['인구수','CCTV수'], y_vars=['살인검거율','폭력검거율'], kind='reg', height=3) #kind='reg'는 차트 종류를 산점도라는 의미\n",
    "plt.show()"
   ]
  },
  {
   "cell_type": "code",
   "execution_count": null,
   "metadata": {},
   "outputs": [],
   "source": [
    "Crime_Seoul.head()"
   ]
  },
  {
   "cell_type": "code",
   "execution_count": null,
   "metadata": {},
   "outputs": [],
   "source": [
    "#범죄발생수, 검거율, CCTV수, 인구수 항목만 따로 가져오기 \n",
    "df = Crime_Seoul[['발생합계','검거율','CCTV수','인구수']]\n",
    "df.head()\n",
    "#항목별 상관관계 살펴보기, 대각선을 중심으로 대칭, 음수는 두 데이터가 음의 상관관게, 양수는 양의 상간관계,\n",
    "#절대값이 1에 가까울 수록 상관도가 높음\n",
    "df.corr()"
   ]
  },
  {
   "cell_type": "code",
   "execution_count": null,
   "metadata": {},
   "outputs": [],
   "source": [
    "#상관관계 그래프로 보기, 양의 상관관계는 녹색계열, 음의 상관관계는 보라색 계열\n",
    "plt.matshow(df.corr())"
   ]
  },
  {
   "cell_type": "markdown",
   "metadata": {},
   "source": [
    "## 6. 위의 분석 결과를 보고 CCTV수가 범죄발생 및 검거에 미치는 영향과 CCTV 설치에 대한 자신의 생각을 아래에 정리해 보자"
   ]
  },
  {
   "cell_type": "markdown",
   "metadata": {},
   "source": [
    "### 나의생각 :\n",
    "\n",
    "\n",
    "\n",
    "\n",
    "\n",
    "\n",
    "\n",
    "\n"
   ]
  }
 ],
 "metadata": {
  "kernelspec": {
   "display_name": "Python 3 (ipykernel)",
   "language": "python",
   "name": "python3"
  },
  "language_info": {
   "codemirror_mode": {
    "name": "ipython",
    "version": 3
   },
   "file_extension": ".py",
   "mimetype": "text/x-python",
   "name": "python",
   "nbconvert_exporter": "python",
   "pygments_lexer": "ipython3",
   "version": "3.9.7"
  }
 },
 "nbformat": 4,
 "nbformat_minor": 2
}
